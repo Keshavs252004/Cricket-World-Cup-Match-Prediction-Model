{
  "nbformat": 4,
  "nbformat_minor": 0,
  "metadata": {
    "colab": {
      "provenance": [],
      "authorship_tag": "ABX9TyOj8jz/Cdh26DT9PAUoQFd+",
      "include_colab_link": true
    },
    "kernelspec": {
      "name": "python3",
      "display_name": "Python 3"
    },
    "language_info": {
      "name": "python"
    }
  },
  "cells": [
    {
      "cell_type": "markdown",
      "metadata": {
        "id": "view-in-github",
        "colab_type": "text"
      },
      "source": [
        "<a href=\"https://colab.research.google.com/github/Keshavs252004/Cricket-World-Cup-Match-Prediction-Model/blob/main/Untitled0.ipynb\" target=\"_parent\"><img src=\"https://colab.research.google.com/assets/colab-badge.svg\" alt=\"Open In Colab\"/></a>"
      ]
    },
    {
      "cell_type": "code",
      "execution_count": 4,
      "metadata": {
        "colab": {
          "base_uri": "https://localhost:8080/"
        },
        "id": "XPci6jENAODS",
        "outputId": "97041215-20b7-420a-c2fe-c6d7c1c5bcde"
      },
      "outputs": [
        {
          "output_type": "stream",
          "name": "stdout",
          "text": [
            "Requirement already satisfied: nltk in /usr/local/lib/python3.11/dist-packages (3.9.1)\n",
            "Requirement already satisfied: click in /usr/local/lib/python3.11/dist-packages (from nltk) (8.2.1)\n",
            "Requirement already satisfied: joblib in /usr/local/lib/python3.11/dist-packages (from nltk) (1.5.1)\n",
            "Requirement already satisfied: regex>=2021.8.3 in /usr/local/lib/python3.11/dist-packages (from nltk) (2024.11.6)\n",
            "Requirement already satisfied: tqdm in /usr/local/lib/python3.11/dist-packages (from nltk) (4.67.1)\n"
          ]
        }
      ],
      "source": [
        "pip install nltk\n"
      ]
    },
    {
      "cell_type": "code",
      "source": [
        "import nltk\n",
        "nltk.download('punkt_tab')\n",
        "from nltk.tokenize import word_tokenize"
      ],
      "metadata": {
        "colab": {
          "base_uri": "https://localhost:8080/"
        },
        "id": "KmYFDbzRASOo",
        "outputId": "408d7861-3a0f-416b-8611-7a67da439e0f"
      },
      "execution_count": 5,
      "outputs": [
        {
          "output_type": "stream",
          "name": "stderr",
          "text": [
            "[nltk_data] Downloading package punkt_tab to /root/nltk_data...\n",
            "[nltk_data]   Unzipping tokenizers/punkt_tab.zip.\n"
          ]
        }
      ]
    },
    {
      "cell_type": "code",
      "source": [
        "sentence = \"I Love Programming !\"\n",
        "tokens = nltk.word_tokenize(sentence.lower())\n",
        "print('Tokens:' , tokens)"
      ],
      "metadata": {
        "colab": {
          "base_uri": "https://localhost:8080/"
        },
        "id": "Pc3rsgOxA0gz",
        "outputId": "945e09e9-641e-4173-a067-f7e0d9db9960"
      },
      "execution_count": 7,
      "outputs": [
        {
          "output_type": "stream",
          "name": "stdout",
          "text": [
            "Tokens: ['i', 'love', 'programming', '!']\n"
          ]
        }
      ]
    },
    {
      "cell_type": "code",
      "source": [
        "from nltk.util import ngrams"
      ],
      "metadata": {
        "id": "HAhpllshBGEn"
      },
      "execution_count": 8,
      "outputs": []
    },
    {
      "cell_type": "code",
      "source": [
        "Sentence = \"I am learning NLP(Natural Language Processing)\"\n",
        "tokens = nltk.word_tokenize(Sentence.upper())\n",
        "unigrams = list(ngrams(tokens, 1))\n",
        "print(\"Unigrams:\",unigrams)"
      ],
      "metadata": {
        "colab": {
          "base_uri": "https://localhost:8080/"
        },
        "id": "iI5svFhq-SUU",
        "outputId": "a2e9aecf-5323-417a-d25d-81bbecc8fb14"
      },
      "execution_count": 10,
      "outputs": [
        {
          "output_type": "stream",
          "name": "stdout",
          "text": [
            "Unigrams: [('I',), ('AM',), ('LEARNING',), ('NLP',), ('(',), ('NATURAL',), ('LANGUAGE',), ('PROCESSING',), (')',)]\n"
          ]
        }
      ]
    },
    {
      "cell_type": "code",
      "source": [
        "Sentence = \"I am learning NLP(Natural Language Processing)\"\n",
        "tokens = nltk.word_tokenize(Sentence.upper())\n",
        "bigrams = list(ngrams(tokens, 2))\n",
        "print(\"Bigrams:\",bigrams)"
      ],
      "metadata": {
        "colab": {
          "base_uri": "https://localhost:8080/"
        },
        "id": "heSTUcIh-ofF",
        "outputId": "a3a3a621-ca01-4b7e-e593-11a96e406edd"
      },
      "execution_count": 11,
      "outputs": [
        {
          "output_type": "stream",
          "name": "stdout",
          "text": [
            "Bigrams: [('I', 'AM'), ('AM', 'LEARNING'), ('LEARNING', 'NLP'), ('NLP', '('), ('(', 'NATURAL'), ('NATURAL', 'LANGUAGE'), ('LANGUAGE', 'PROCESSING'), ('PROCESSING', ')')]\n"
          ]
        }
      ]
    },
    {
      "cell_type": "code",
      "source": [
        "Sentence = \"I am learning NLP(Natural Language Processing)\"\n",
        "tokens = nltk.word_tokenize(Sentence.upper())\n",
        "trigrams = list(ngrams(tokens, 3))\n",
        "print(\"Trigrams:\",trigrams)"
      ],
      "metadata": {
        "colab": {
          "base_uri": "https://localhost:8080/"
        },
        "id": "3_1xZG35_tjc",
        "outputId": "91cd046e-7270-4ac9-842f-fe4a12152d2c"
      },
      "execution_count": 14,
      "outputs": [
        {
          "output_type": "stream",
          "name": "stdout",
          "text": [
            "Trigrams: [('I', 'AM', 'LEARNING'), ('AM', 'LEARNING', 'NLP'), ('LEARNING', 'NLP', '('), ('NLP', '(', 'NATURAL'), ('(', 'NATURAL', 'LANGUAGE'), ('NATURAL', 'LANGUAGE', 'PROCESSING'), ('LANGUAGE', 'PROCESSING', ')')]\n"
          ]
        }
      ]
    },
    {
      "cell_type": "code",
      "source": [
        "Sentence = \"I am learning NLP(Natural Language Processing)\"\n",
        "tokens = nltk.word_tokenize(Sentence.upper())\n",
        "ngrams = list(ngrams(tokens, 4))\n",
        "print(\"Ngrams:\", ngrams)"
      ],
      "metadata": {
        "colab": {
          "base_uri": "https://localhost:8080/"
        },
        "id": "HQ9VqTJ5AVkz",
        "outputId": "0d087338-2fed-4f12-e086-7d819ab9ab2a"
      },
      "execution_count": 15,
      "outputs": [
        {
          "output_type": "stream",
          "name": "stdout",
          "text": [
            "Ngrams: [('I', 'AM', 'LEARNING', 'NLP'), ('AM', 'LEARNING', 'NLP', '('), ('LEARNING', 'NLP', '(', 'NATURAL'), ('NLP', '(', 'NATURAL', 'LANGUAGE'), ('(', 'NATURAL', 'LANGUAGE', 'PROCESSING'), ('NATURAL', 'LANGUAGE', 'PROCESSING', ')')]\n"
          ]
        }
      ]
    },
    {
      "cell_type": "code",
      "source": [],
      "metadata": {
        "id": "-DUdbtVCBBg-"
      },
      "execution_count": null,
      "outputs": []
    }
  ]
}